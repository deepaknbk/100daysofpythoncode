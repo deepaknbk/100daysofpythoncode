{
 "cells": [
  {
   "cell_type": "code",
   "execution_count": 10,
   "metadata": {},
   "outputs": [],
   "source": [
    "import re"
   ]
  },
  {
   "cell_type": "code",
   "execution_count": 6,
   "metadata": {},
   "outputs": [],
   "source": [
    "text ='Awesome, I am doing the #100DaysOfCode challenge'"
   ]
  },
  {
   "cell_type": "markdown",
   "metadata": {},
   "source": [
    "Does text start with 'Awesome' ?"
   ]
  },
  {
   "cell_type": "code",
   "execution_count": 3,
   "metadata": {},
   "outputs": [
    {
     "data": {
      "text/plain": [
       "True"
      ]
     },
     "execution_count": 3,
     "metadata": {},
     "output_type": "execute_result"
    }
   ],
   "source": [
    "text.startswith('Awesome')"
   ]
  },
  {
   "cell_type": "code",
   "execution_count": 4,
   "metadata": {},
   "outputs": [
    {
     "data": {
      "text/plain": [
       "True"
      ]
     },
     "execution_count": 4,
     "metadata": {},
     "output_type": "execute_result"
    }
   ],
   "source": [
    "text.endswith('challenge')"
   ]
  },
  {
   "cell_type": "code",
   "execution_count": 7,
   "metadata": {},
   "outputs": [
    {
     "data": {
      "text/plain": [
       "True"
      ]
     },
     "execution_count": 7,
     "metadata": {},
     "output_type": "execute_result"
    }
   ],
   "source": [
    "'100daysofcode' in text.lower()"
   ]
  },
  {
   "cell_type": "code",
   "execution_count": 8,
   "metadata": {},
   "outputs": [
    {
     "data": {
      "text/plain": [
       "'Awesome, I am doing the #200DaysOfCode challenge'"
      ]
     },
     "execution_count": 8,
     "metadata": {},
     "output_type": "execute_result"
    }
   ],
   "source": [
    "text.replace('100','200')"
   ]
  },
  {
   "cell_type": "markdown",
   "metadata": {},
   "source": [
    "### `search` vs `match`\n",
    "\n",
    "The main methods you want to know about are ```search``` and match, former matches a substring, latter matches the string from beginning to end. I always embed my regex in `r''` to avoid having to escape special characters like \\d (digit), \\w (char), \\s (space), \\S (non-space), etc (I think \\\\d and \\\\s clutters up the regex)"
   ]
  },
  {
   "cell_type": "code",
   "execution_count": 11,
   "metadata": {},
   "outputs": [
    {
     "data": {
      "text/plain": [
       "<re.Match object; span=(9, 13), match='I am'>"
      ]
     },
     "execution_count": 11,
     "metadata": {},
     "output_type": "execute_result"
    }
   ],
   "source": [
    "re.search(r'I am',text)"
   ]
  },
  {
   "cell_type": "code",
   "execution_count": 12,
   "metadata": {},
   "outputs": [],
   "source": [
    "re.match(r'I am',text)"
   ]
  },
  {
   "cell_type": "code",
   "execution_count": 13,
   "metadata": {},
   "outputs": [
    {
     "data": {
      "text/plain": [
       "<re.Match object; span=(0, 48), match='Awesome, I am doing the #100DaysOfCode challenge'>"
      ]
     },
     "execution_count": 13,
     "metadata": {},
     "output_type": "execute_result"
    }
   ],
   "source": [
    "re.match(r'Awesome.*challenge',text)"
   ]
  },
  {
   "cell_type": "markdown",
   "metadata": {},
   "source": [
    "### Capturing strings\n",
    "\n",
    "A common task is to retrieve a match, you can use capturing () parenthesis for that:"
   ]
  },
  {
   "cell_type": "code",
   "execution_count": 30,
   "metadata": {},
   "outputs": [
    {
     "data": {
      "text/plain": [
       "'#100DaysOfCode'"
      ]
     },
     "execution_count": 30,
     "metadata": {},
     "output_type": "execute_result"
    }
   ],
   "source": [
    "hundred='Awesome, I am doing the #100DaysOfCode challenge'\n",
    "two_hundred='Awesome, I am doing the #200DaysOfCode challenge'\n",
    "\n",
    "m1=re.match(r'.*(#\\d+DaysOfCode).*',hundred)\n",
    "m1.groups()[0]"
   ]
  },
  {
   "cell_type": "code",
   "execution_count": 26,
   "metadata": {},
   "outputs": [
    {
     "data": {
      "text/plain": [
       "'#200DaysOfCode'"
      ]
     },
     "execution_count": 26,
     "metadata": {},
     "output_type": "execute_result"
    }
   ],
   "source": [
    "m2 = re.search(r'(#\\d+DaysOfCode)', two_hundred)\n",
    "m2.groups()[0]"
   ]
  },
  {
   "cell_type": "markdown",
   "metadata": {},
   "source": [
    "### findall is your friend\n",
    "\n",
    "What if you want to match multiple instances of a pattern? `re` has the convenient `findall` method I use a lot. For example in our 100 Days Of Code we used the re module for the following days - how would I extract the days from this string?"
   ]
  },
  {
   "cell_type": "code",
   "execution_count": 32,
   "metadata": {},
   "outputs": [
    {
     "data": {
      "text/plain": [
       "['005', '007', '009', '015', '021', '022', '068', '080', '081', '086', '095']"
      ]
     },
     "execution_count": 32,
     "metadata": {},
     "output_type": "execute_result"
    }
   ],
   "source": [
    "text = '''\n",
    "$ python module_index.py |grep ^re\n",
    "re                 | stdlib | 005, 007, 009, 015, 021, 022, 068, 080, 081, 086, 095\n",
    "'''\n",
    "\n",
    "re.findall(r'\\d+',text)"
   ]
  },
  {
   "cell_type": "code",
   "execution_count": 47,
   "metadata": {},
   "outputs": [
    {
     "data": {
      "text/plain": [
       "['Lorem', 'Ipsum', 'is', 'simply', 'dummy']"
      ]
     },
     "execution_count": 47,
     "metadata": {},
     "output_type": "execute_result"
    }
   ],
   "source": [
    "text = \"\"\"Lorem Ipsum is simply dummy text of the printing and typesetting industry. Lorem Ipsum has been \n",
    "the industry's standard dummy text ever since the 1500s, when an unknown printer took a galley of type and \n",
    "scrambled it to make a type specimen book. It has survived not only five centuries, but also the leap into \n",
    "electronic typesetting, remaining essentially unchanged. It was popularised in the 1960s with the release of\n",
    "Letraset sheets containing Lorem Ipsum passages, and more recently with desktop publishing software like Aldus\n",
    "PageMaker including versions of Lorem Ipsum\"\"\"\n",
    "\n",
    "text.split()\n",
    "\n",
    "re.findall(r'\\w+',text)[:5]"
   ]
  },
  {
   "cell_type": "code",
   "execution_count": 41,
   "metadata": {},
   "outputs": [
    {
     "data": {
      "text/plain": [
       "['Lorem', 'Ipsum', 'Lorem', 'Ipsum']"
      ]
     },
     "execution_count": 41,
     "metadata": {},
     "output_type": "execute_result"
    }
   ],
   "source": [
    "from collections import Counter\n",
    "\n",
    "re.findall(r'[A-Z][a-z]+',text)[:4]"
   ]
  },
  {
   "cell_type": "code",
   "execution_count": 44,
   "metadata": {},
   "outputs": [
    {
     "data": {
      "text/plain": [
       "[('Lorem', 4), ('Ipsum', 4), ('It', 2), ('Letraset', 1), ('Aldus', 1)]"
      ]
     },
     "execution_count": 44,
     "metadata": {},
     "output_type": "execute_result"
    }
   ],
   "source": [
    "cnt=Counter(re.findall(r'[A-Z][a-z]+',text))\n",
    "cnt.most_common(5)"
   ]
  },
  {
   "cell_type": "markdown",
   "metadata": {},
   "source": [
    "### Compiling regexes\n",
    "\n",
    "If you want to run the same regex multiple times, say in a for loop it is best practice to define the regex one time using re.compile, here is an example:"
   ]
  },
  {
   "cell_type": "code",
   "execution_count": 48,
   "metadata": {},
   "outputs": [
    {
     "data": {
      "text/plain": [
       "['1. Citizen Kane (1941)',\n",
       " '2. The Godfather (1972)',\n",
       " '3. Casablanca (1942)',\n",
       " '4. Raging Bull (1980)',\n",
       " \"5. Singin' in the Rain (1952)\",\n",
       " '6. Gone with the Wind (1939)',\n",
       " '7. Lawrence of Arabia (1962)',\n",
       " \"8. Schindler's List (1993)\",\n",
       " '9. Vertigo (1958)',\n",
       " '10. The Wizard of Oz (1939)']"
      ]
     },
     "execution_count": 48,
     "metadata": {},
     "output_type": "execute_result"
    }
   ],
   "source": [
    "movies = '''1. Citizen Kane (1941)\n",
    "2. The Godfather (1972)\n",
    "3. Casablanca (1942)\n",
    "4. Raging Bull (1980)\n",
    "5. Singin' in the Rain (1952)\n",
    "6. Gone with the Wind (1939)\n",
    "7. Lawrence of Arabia (1962)\n",
    "8. Schindler's List (1993)\n",
    "9. Vertigo (1958)\n",
    "10. The Wizard of Oz (1939)'''.split('\\n')\n",
    "movies"
   ]
  },
  {
   "cell_type": "code",
   "execution_count": 57,
   "metadata": {},
   "outputs": [
    {
     "name": "stdout",
     "output_type": "stream",
     "text": [
      "['Ci', 'Ka']\n",
      "['Th', 'Go']\n",
      "['Ca']\n",
      "['Ra', 'Bu']\n",
      "['Si', 'Ra']\n",
      "['Go', 'Wi']\n",
      "['La', 'Ar']\n",
      "['Sc', 'Li']\n",
      "['Ve']\n",
      "['Th', 'Wi', 'Oz']\n"
     ]
    }
   ],
   "source": [
    "for i in movies:\n",
    "    \n",
    "    print(re.findall(r'[A-Z][a-z]',i))"
   ]
  },
  {
   "cell_type": "code",
   "execution_count": 58,
   "metadata": {},
   "outputs": [],
   "source": [
    "\n",
    "pat = re.compile(r'''\n",
    "                  ^             # start of string\n",
    "                  \\d+           # one or more digits\n",
    "                  \\.            # a literal dot\n",
    "                  \\s+           # one or more spaces\n",
    "                  (?:           # non-capturing parenthesis, so I don't want store this match in groups()\n",
    "                  [A-Za-z']+\\s  # character class (note inclusion of ' for \"Schindler's\"), followed by a space\n",
    "                  )             # closing of non-capturing parenthesis\n",
    "                  {2}           # exactly 2 of the previously grouped subpattern\n",
    "                  \\(            # literal opening parenthesis\n",
    "                  \\d{4}         # exactly 4 digits (year)\n",
    "                  \\)            # literal closing parenthesis\n",
    "                  $             # end of string\n",
    "                  ''', re.VERBOSE)"
   ]
  },
  {
   "cell_type": "code",
   "execution_count": 61,
   "metadata": {},
   "outputs": [
    {
     "name": "stdout",
     "output_type": "stream",
     "text": [
      "1. Citizen Kane (1941): <re.Match object; span=(0, 22), match='1. Citizen Kane (1941)'>\n",
      "2. The Godfather (1972): <re.Match object; span=(0, 23), match='2. The Godfather (1972)'>\n",
      "3. Casablanca (1942): None\n",
      "4. Raging Bull (1980): <re.Match object; span=(0, 21), match='4. Raging Bull (1980)'>\n",
      "5. Singin' in the Rain (1952): None\n",
      "6. Gone with the Wind (1939): None\n",
      "7. Lawrence of Arabia (1962): None\n",
      "8. Schindler's List (1993): <re.Match object; span=(0, 26), match=\"8. Schindler's List (1993)\">\n",
      "9. Vertigo (1958): None\n",
      "10. The Wizard of Oz (1939): None\n"
     ]
    }
   ],
   "source": [
    "for movie in movies:\n",
    "    #print(movie,':',pat.match(movie))\n",
    "    print(f'{movie}: {pat.match(movie)}')"
   ]
  },
  {
   "cell_type": "markdown",
   "metadata": {},
   "source": [
    "### Advanced string replacing\n",
    "\n",
    "As shown before str.replace probably covers a lot of your needs, for more advanced usage there is re.sub:"
   ]
  },
  {
   "cell_type": "code",
   "execution_count": 64,
   "metadata": {},
   "outputs": [
    {
     "data": {
      "text/plain": [
       "'Awesome, I am doing #100DaysOfCode, #100DaysOfDjango and of course #100DaysOfPyBites'"
      ]
     },
     "execution_count": 64,
     "metadata": {},
     "output_type": "execute_result"
    }
   ],
   "source": [
    "text = '''Awesome, I am doing #100DaysOfCode, #200DaysOfDjango and of course #365DaysOfPyBites'''\n",
    "\n",
    "re.sub(r'\\d+','100',text)"
   ]
  },
  {
   "cell_type": "code",
   "execution_count": 69,
   "metadata": {},
   "outputs": [
    {
     "data": {
      "text/plain": [
       "'Awesome, I am doing #100DaysOfPython, #200DaysOfPython and of course #365DaysOfPython'"
      ]
     },
     "execution_count": 69,
     "metadata": {},
     "output_type": "execute_result"
    }
   ],
   "source": [
    "re.sub(r'(#\\d+DaysOf)\\w+',r'\\1Python',text)"
   ]
  },
  {
   "cell_type": "code",
   "execution_count": 71,
   "metadata": {},
   "outputs": [
    {
     "data": {
      "text/plain": [
       "['#100DaysOf', '#200DaysOf', '#365DaysOf']"
      ]
     },
     "execution_count": 71,
     "metadata": {},
     "output_type": "execute_result"
    }
   ],
   "source": [
    "re.findall(r'(#\\d+DaysOf)\\w+',text)"
   ]
  },
  {
   "cell_type": "code",
   "execution_count": null,
   "metadata": {},
   "outputs": [],
   "source": []
  }
 ],
 "metadata": {
  "kernelspec": {
   "display_name": "Python 3",
   "language": "python",
   "name": "python3"
  },
  "language_info": {
   "codemirror_mode": {
    "name": "ipython",
    "version": 3
   },
   "file_extension": ".py",
   "mimetype": "text/x-python",
   "name": "python",
   "nbconvert_exporter": "python",
   "pygments_lexer": "ipython3",
   "version": "3.8.5"
  }
 },
 "nbformat": 4,
 "nbformat_minor": 4
}
